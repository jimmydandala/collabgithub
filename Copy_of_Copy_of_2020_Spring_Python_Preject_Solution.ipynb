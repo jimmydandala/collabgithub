{
  "nbformat": 4,
  "nbformat_minor": 0,
  "metadata": {
    "colab": {
      "name": "Copy of Copy of 2020 Spring Python - Preject Solution.ipynb",
      "provenance": [],
      "collapsed_sections": [],
      "toc_visible": true
    },
    "kernelspec": {
      "name": "python3",
      "display_name": "Python 3"
    }
  },
  "cells": [
    {
      "cell_type": "markdown",
      "metadata": {
        "id": "4XpOTJPBlSoR",
        "colab_type": "text"
      },
      "source": [
        "# Preject\n"
      ]
    },
    {
      "cell_type": "markdown",
      "metadata": {
        "id": "MYyT79zs4PVr",
        "colab_type": "text"
      },
      "source": [
        "## What is it? \n",
        "\n",
        "* Small project (there will be a bigger one at the end of the semester)\n",
        "* Everybody must complete (with our help) - the result is reported to ReDI team\n",
        "* 2 class sessions and homework\n",
        "* You can choose one of two tasks\n",
        "* Each task has: \n",
        "  * a set of core functions, which all must be implemented \n",
        "  * suggestions of extra features as bonus/extra work \n",
        "\n"
      ]
    },
    {
      "cell_type": "markdown",
      "metadata": {
        "id": "kLX6IKeX4aeA",
        "colab_type": "text"
      },
      "source": [
        "## The tasks\n",
        "\n",
        "1.   *How to prepare*\n",
        "2.   *Guess a number*\n",
        "\n",
        "\n"
      ]
    },
    {
      "cell_type": "markdown",
      "metadata": {
        "id": "AkQVmNLCHafs",
        "colab_type": "text"
      },
      "source": [
        "### 'How to prepare' game"
      ]
    },
    {
      "cell_type": "markdown",
      "metadata": {
        "id": "qUQfA-cpPR6X",
        "colab_type": "text"
      },
      "source": [
        "1.   Ask Users to chose what kind of products do they have. Please write what kind of products do you have - fruits(f) or vegetables(v)?\n",
        "2.   Depends on what they have - suggest them to chose from your list one specific product. For example: for vegetables (Carrots, Lettuce, Mushrooms, Potatoes, Garlic, Cabbages), for fruits:(Cucumber, Melons, Tomatoes, Eggplant)\n",
        "3.  Then show some information about this product(Cooking methods, How to prepare, Availability, Recipes)\n",
        "\n",
        "For example: \n",
        "\n",
        "Please write what kind of products do you have - fruits(f) or vegetables(v)?\n",
        "\n",
        "`v`\n",
        "\n",
        "You choosed vegetables. From vegetables we have: Carrots, Lettuce, Mushrooms, Potatoes, Garlic, Cabbages. Please select one you want.\n",
        "\n",
        "`Mushrooms`\n",
        "\n",
        "You choosed: Mushrooms. Here is information how to prepeare them:\n",
        "Cultivated mushrooms don't need peeling – just wipe both the cap and stalk with a paper towel. Do not wash. Field mushrooms sometimes need peeling.\n",
        "\n",
        " Do you want to continue? y/n\n",
        "\n",
        "`y`\n",
        "\n",
        "Please write what kind of products do you have - fruits(f) or vegetables(v)?\n",
        "\n",
        "`f`\n",
        "\n",
        "You choosed fruits. From fruits we have: Cucumber, Melons, Tomatoes, Eggplant. Please select one you want.\n",
        "\n",
        "`Cucumber`\n",
        "\n",
        "You choosed: Cucumber. Here is information how to prepeare it:\n",
        "Young cucumbers have a mild and tender skin and it is unnecessary to peel them. Telegraph, Lebanese and cocktail cucumbers never need to be peeled. European recipe books may advocate peeling and removing the seeds, but this is not normally necessary.\n",
        "\n",
        "Do you want to continue? y/n\n",
        "\n",
        "`n`\n",
        "\n",
        "Thank you! Good bye!\n",
        "\n",
        "\n",
        "\n",
        "For more information use link: https://www.vegetables.co.nz/vegetables-a-z/\n"
      ]
    },
    {
      "cell_type": "markdown",
      "metadata": {
        "id": "vizROjbTdFZp",
        "colab_type": "text"
      },
      "source": [
        "#### Bonus\n",
        "\n",
        "    If user enters a value that is not f or v (fruits(f) or vegetables(v)), then program should ask to choose the kind of product again until User picks right one.\n",
        "\n",
        "    Depends of plural/singular form of the products - write -Here is information how to prepare it/them\n",
        "\n",
        "    After Users choose what kind of product they interested in, suggest them to chose what kind of information do they want to know: What to look for/ Cooking methods/ Store / How to prepare / Ways to eat\n",
        "\n",
        "\n"
      ]
    },
    {
      "cell_type": "markdown",
      "metadata": {
        "id": "GMEjKQRKQ3F4",
        "colab_type": "text"
      },
      "source": [
        "#### Super-bonus: \n",
        "\n",
        "- ask Users what kind of information do they want to know after they choose specific product.\n",
        "- instead of asking do you want to continue - ask - do you want to know something more about products in the same category (с) or from another (a). To leave the program write - q. If Users choose the same - show again products from the same category if a - give them chance to coose category, if q - exit the program\n"
      ]
    },
    {
      "cell_type": "markdown",
      "metadata": {
        "id": "sy2OPZxXHmED",
        "colab_type": "text"
      },
      "source": [
        "### \"Guess a number\" game"
      ]
    },
    {
      "cell_type": "markdown",
      "metadata": {
        "id": "5ysRQYxb48qx",
        "colab_type": "text"
      },
      "source": [
        "* The program should generate a random secret number between 0 and 100 and ask user to guess it\n",
        "* The user has 7 attempts\n",
        "* After each attempt the program tells the user if their number is bigger or smaller than the secret one\n",
        "* If the user's guess is correct, the program tells the user that they won and finishes\n",
        "* If the user couldn't guess the secret number in 7 attempts, the program tells them, that they lost and finishes\n"
      ]
    },
    {
      "cell_type": "markdown",
      "metadata": {
        "id": "SW3mMfAn4_XC",
        "colab_type": "text"
      },
      "source": [
        "#### Bonus\n",
        "* If user enters a value that is not a number, the program should ask to enter the number without loosing the attempt\n",
        "* If user enters a number that is not in between 0 and 100, the program should ask to enter the number without loosing the attempt\n",
        "* When the game finishes, the program asks the user, if they want to quit the program or to play again (in the latter case the game restarts)\n",
        "* The program keeps the score for the matches and prints them after every round: e.g. \"User - 2 : Program - 3\" after 5 matches\n",
        "* The program keeps track of the user's name and prints the score including the name of the user\n"
      ]
    },
    {
      "cell_type": "markdown",
      "metadata": {
        "id": "m0d5bq6k5CYM",
        "colab_type": "text"
      },
      "source": [
        "#### Super-bonus\n",
        "* The program allows the user to quit the game instead of entering the number\n",
        "* The program remebers the result of every round (if user won or lost, how many guesses they make) and prints it at the end of every round\n",
        "* ..."
      ]
    },
    {
      "cell_type": "markdown",
      "metadata": {
        "id": "jekdoxTj98tY",
        "colab_type": "text"
      },
      "source": [
        "## Task decomposition "
      ]
    },
    {
      "cell_type": "markdown",
      "metadata": {
        "id": "MSt-p1PtIjfr",
        "colab_type": "text"
      },
      "source": [
        "### How to prepare\n",
        "\n",
        "This is one of the _possible_ ways of decompose the task\n",
        "\n"
      ]
    },
    {
      "cell_type": "markdown",
      "metadata": {
        "id": "yx-X1wOqCg0F",
        "colab_type": "text"
      },
      "source": [
        "### Guess a number\n",
        "\n",
        "This is one of the _possible_ ways of decompose the task\n",
        "\n",
        "1. Implement the program which has one hard-coded secret and asks user once to guess it. After user input the program tells them, if they're right or wrong and finishes\n",
        "2. Update the previous program so that the number is not hard-coded, but randomly generated (see above)\n",
        "3. Update the previous program so that it gives the user 7 attempts. After 7 attempts the program finishes\n",
        "4. Update the program so that it finishes earlier, if user guessed the right number  \n",
        "\n",
        "Bonus\n",
        "\n",
        "5. Update the program so that it handles correctly the situation, when user entered not a number\n",
        "6. Update the program so that after the round finishes, it asks user, if they want to continue and either finishes or restarts the game with a new number depending on their input \n",
        "7. Update the program so that it remembers the results of the rounds and prints the score after each round \n",
        "\n",
        "... etc (super-bonus, your imagination)\n",
        "\n"
      ]
    },
    {
      "cell_type": "code",
      "metadata": {
        "id": "B3kQztf5DiUJ",
        "colab_type": "code",
        "colab": {}
      },
      "source": [
        "#Implement the program which has one hard-coded secret and asks user once to guess it. After user input the program tells them, if they're right or wrong and finishes\n",
        "\n",
        "magic_number = 77\n",
        "perfect_guess = int(input('Guess a number \\n'))\n",
        "if perfect_guess == magic_number:\n",
        "  print('You are a Genius!')\n",
        "else:\n",
        "  print('Great attempt!', end= '/')\n",
        "print('End of Game')\n"
      ],
      "execution_count": 0,
      "outputs": []
    },
    {
      "cell_type": "code",
      "metadata": {
        "id": "IPxpk03C4_IZ",
        "colab_type": "code",
        "colab": {}
      },
      "source": [
        "#Update the previous program so that the number is not hard-coded, but randomly generated\n",
        "\n",
        "from random import randint\n",
        "magic_number = randint(0,100)\n",
        "#print(magic_number) to test the success criteria\n",
        "perfect_guess = int(input('Guess a number \\n'))\n",
        "if perfect_guess == magic_number:\n",
        "  print('You are a Genius!')\n",
        "else:\n",
        "  print('Great attempt!', end= '/')\n",
        "print('End of Game')"
      ],
      "execution_count": 0,
      "outputs": []
    },
    {
      "cell_type": "code",
      "metadata": {
        "id": "LvdPrRia6uwI",
        "colab_type": "code",
        "colab": {}
      },
      "source": [
        "#Update the previous program so that it gives the user 7 attempts. After 7 attempts the program finishes\n",
        "\n",
        " \n",
        "from random import randint\n",
        "magic_number = randint(0,100)\n",
        "attempts = 1 \n",
        "while attempts <= 7:\n",
        "  perfect_guess = int(input('Guess a number \\n'))\n",
        "  if perfect_guess == magic_number:\n",
        "    print('You are a Genius!')\n",
        "  else:\n",
        "    print('Great attempt!')\n",
        "  attempts +=1\n",
        "  \n",
        "\n",
        "\n",
        " "
      ],
      "execution_count": 0,
      "outputs": []
    },
    {
      "cell_type": "code",
      "metadata": {
        "id": "mRC1rCQts3LV",
        "colab_type": "code",
        "colab": {}
      },
      "source": [
        "#Update the program so that it finishes earlier, if user guessed the right number \n",
        "from random import randint\n",
        "magic_number = randint(0,100)\n",
        "#print(magic_number) #test criteria\n",
        "attempts = 1 \n",
        "while attempts <= 7:\n",
        "  perfect_guess = int(input('Guess a number \\n'))\n",
        "  if perfect_guess == magic_number:\n",
        "    print('You are a Genius!')\n",
        "    break\n",
        "  else:\n",
        "    print('Great attempt!')\n",
        "  attempts +=1"
      ],
      "execution_count": 0,
      "outputs": []
    },
    {
      "cell_type": "code",
      "metadata": {
        "id": "IIYmvrFpw_od",
        "colab_type": "code",
        "colab": {}
      },
      "source": [
        "#Update the program so that it handles correctly the situation, when user entered not a number\n",
        "from random import randint\n",
        "magic_number = randint(0,100)\n",
        "#print(magic_number) #test criteria\n",
        "attempts = 1 \n",
        "while attempts <= 7:\n",
        "  perfect_guess = input('Guess a number \\n')\n",
        "  if perfect_guess.isdigit() != True:\n",
        "    print('Please input an integer')\n",
        "    continue\n",
        "  if int(perfect_guess) == magic_number:\n",
        "    print('You are a Genius!')\n",
        "    break\n",
        "  else:\n",
        "    print('Great attempt!')\n",
        "  attempts +=1\n",
        "    "
      ],
      "execution_count": 0,
      "outputs": []
    },
    {
      "cell_type": "code",
      "metadata": {
        "id": "cM49QdQiYVGU",
        "colab_type": "code",
        "colab": {}
      },
      "source": [
        "#Update the program so that after the round finishes, it asks user, if they want to continue and either finishes or restarts the game with a new number depending on their input\n",
        "\n",
        "Name_player = input('state your name:\\n')\n",
        "print('Awesome!', Name_player,',welcome to the magic number game!\\nRule:\\nYou have 7 chances to guess any number from 1 to 100, if your guess is right, you win, and if not, you loose after the trial limit')\n",
        "print('Do you want to continue with the magic number game?','Yes or No')\n",
        "acceptance = input()\n",
        "if acceptance == 'No':\n",
        "  print(Name_player +',You have missed a great experience')\n",
        "elif acceptance == 'Yes':\n",
        "  print('Ohoo! Challenge Your Instinct', Name_player + '!!')\n",
        "\n",
        "  from random import randint\n",
        "  magic_number = randint(0,100)\n",
        " # print(magic_number) #test criteria\n",
        "  attempts = 1 \n",
        "  while attempts <= 7:\n",
        "    perfect_guess = input('Guess a number \\n')\n",
        "  \n",
        "    if perfect_guess.isdigit() != True:\n",
        "      print('Please input an integer')\n",
        "      continue\n",
        "    if int(perfect_guess) < magic_number:\n",
        "      print(perfect_guess,'is less  than magic number, Please try again.')\n",
        "    if int(perfect_guess) > magic_number:\n",
        "      print(perfect_guess, 'is greater than magic number, Please try again.')\n",
        "    if int(perfect_guess) == magic_number:\n",
        "      print('You are a Genius!')\n",
        "      print(\"Do you want to restart ? Yes or No\")\n",
        "      restart = input()\n",
        "      if not restart == \"Yes\":\n",
        "        print(\"It's sad you want to exit game. Bye for now!\")\n",
        "        break\n",
        "      elif restart == \"Yes\":\n",
        "        print('Welcome back')\n",
        "        attempts = 0\n",
        "        \n",
        "    elif attempts==7:\n",
        "      print(\"Ohooo! You have used all your attempts.\")\n",
        "      print(\"Do you want to restart ? Yes or No\")\n",
        "      restart = input()\n",
        "      if not restart == \"Yes\":\n",
        "        print(\"It's sad you want to exit game. Bye for now!\")\n",
        "        break\n",
        "      elif restart == \"Yes\":\n",
        "        print('Welcome back')\n",
        "        attempts = 0\n",
        "        \n",
        "    attempts +=1\n",
        "    "
      ],
      "execution_count": 0,
      "outputs": []
    },
    {
      "cell_type": "code",
      "metadata": {
        "id": "Sc5cfvpo25QM",
        "colab_type": "code",
        "outputId": "fcf69370-6ae5-4a9d-8ff3-584679c42631",
        "colab": {
          "base_uri": "https://localhost:8080/",
          "height": 35
        }
      },
      "source": [
        "'r'.isdigit()"
      ],
      "execution_count": 1,
      "outputs": [
        {
          "output_type": "execute_result",
          "data": {
            "text/plain": [
              "False"
            ]
          },
          "metadata": {
            "tags": []
          },
          "execution_count": 1
        }
      ]
    },
    {
      "cell_type": "markdown",
      "metadata": {
        "id": "i1QTo2R21il_",
        "colab_type": "text"
      },
      "source": [
        "## Example"
      ]
    },
    {
      "cell_type": "markdown",
      "metadata": {
        "id": "-NQQsUyGy6v4",
        "colab_type": "text"
      },
      "source": [
        "# What we know"
      ]
    },
    {
      "cell_type": "markdown",
      "metadata": {
        "id": "fllss8HG4Lbf",
        "colab_type": "text"
      },
      "source": [
        "## Variable types and conversion (casting) from one type to another"
      ]
    },
    {
      "cell_type": "code",
      "metadata": {
        "id": "rX5tjxoY2Fni",
        "colab_type": "code",
        "outputId": "8806e09f-3ce5-4162-e5a1-40e7d7cb9394",
        "colab": {
          "base_uri": "https://localhost:8080/",
          "height": 34
        }
      },
      "source": [
        "s = '1234'\n",
        "n = int(s)\n",
        "\n",
        "n2 = 11\n",
        "s2 = str(n2)\n",
        "\n",
        "print(s, n, n2, s2)"
      ],
      "execution_count": 0,
      "outputs": [
        {
          "output_type": "stream",
          "text": [
            "1234 1234 11 11\n"
          ],
          "name": "stdout"
        }
      ]
    },
    {
      "cell_type": "markdown",
      "metadata": {
        "id": "f8-BeC2e2qg3",
        "colab_type": "text"
      },
      "source": [
        "**NB! Don't forget, that a string never equals to a number**"
      ]
    },
    {
      "cell_type": "code",
      "metadata": {
        "id": "IPjqsRk121U5",
        "colab_type": "code",
        "outputId": "06763cfb-05e5-485c-b83e-d2cec56e0bd3",
        "colab": {
          "base_uri": "https://localhost:8080/",
          "height": 34
        }
      },
      "source": [
        "s = '1234'\n",
        "n = int(s)\n",
        "\n",
        "print(s, n, s == n)"
      ],
      "execution_count": 0,
      "outputs": [
        {
          "output_type": "stream",
          "text": [
            "1234 1234 False\n"
          ],
          "name": "stdout"
        }
      ]
    },
    {
      "cell_type": "markdown",
      "metadata": {
        "id": "H0cZUby44ARQ",
        "colab_type": "text"
      },
      "source": [
        "## User input"
      ]
    },
    {
      "cell_type": "code",
      "metadata": {
        "id": "eeSLJsHS4GYs",
        "colab_type": "code",
        "colab": {}
      },
      "source": [
        "answer = input('What is your age?\\n')\n",
        "print(answer)"
      ],
      "execution_count": 0,
      "outputs": []
    },
    {
      "cell_type": "markdown",
      "metadata": {
        "id": "ELGoKAMn3TXp",
        "colab_type": "text"
      },
      "source": [
        "## Conditionals\n",
        "\n",
        "* if - elif - else construction\n",
        "* comparison operators: \n",
        "  * \\>\n",
        "  * \\>= \n",
        "  * < \n",
        "  * <=\n",
        "  * == \n",
        "  * !=\n",
        "* logical operatos:\n",
        "  * not\n",
        "  * and \n",
        "  * or"
      ]
    },
    {
      "cell_type": "code",
      "metadata": {
        "id": "BegrwIyd36DO",
        "colab_type": "code",
        "colab": {}
      },
      "source": [
        "answer = int(input('What is your age?\\n'))\n",
        "\n",
        "if answer < 0 or answer > 150: \n",
        "  print('I doubt it')\n",
        "elif answer > 50:\n",
        "  print('You\\'re older than 50')\n",
        "elif answer < 50:\n",
        "  print('You\\'re younger than 50')\n",
        "else:\n",
        "  print('You\\'re 50')\n"
      ],
      "execution_count": 0,
      "outputs": []
    },
    {
      "cell_type": "markdown",
      "metadata": {
        "id": "if1BiBJ_6zGY",
        "colab_type": "text"
      },
      "source": [
        "## Loops\n",
        "\n",
        "* *for* loop and ranges\n",
        "* *while* loop (and conditions)"
      ]
    },
    {
      "cell_type": "code",
      "metadata": {
        "id": "r_ACSf7P7TjB",
        "colab_type": "code",
        "outputId": "55e64809-bf4a-403b-c840-657be7134d32",
        "colab": {
          "base_uri": "https://localhost:8080/",
          "height": 104
        }
      },
      "source": [
        "for i in range(5):\n",
        "  print('Sheep number', i)"
      ],
      "execution_count": 0,
      "outputs": [
        {
          "output_type": "stream",
          "text": [
            "Sheep number 0\n",
            "Sheep number 1\n",
            "Sheep number 2\n",
            "Sheep number 3\n",
            "Sheep number 4\n"
          ],
          "name": "stdout"
        }
      ]
    },
    {
      "cell_type": "code",
      "metadata": {
        "id": "t80lnGeh7kaw",
        "colab_type": "code",
        "outputId": "4b7d0bba-ef9c-46d3-a442-2061a605b35a",
        "colab": {
          "base_uri": "https://localhost:8080/",
          "height": 104
        }
      },
      "source": [
        "s = ''\n",
        "while s != 'exit':\n",
        "  s = input('type something or \"exit\"\\n')\n",
        "  if s != 'exit':\n",
        "    print('You\\'re', s )"
      ],
      "execution_count": 0,
      "outputs": [
        {
          "output_type": "stream",
          "text": [
            "type something or \"exit\"\n",
            "idiot\n",
            "You're idiot\n",
            "type something or \"exit\"\n",
            "exit\n"
          ],
          "name": "stdout"
        }
      ]
    },
    {
      "cell_type": "markdown",
      "metadata": {
        "id": "YRbuF4sT7NNB",
        "colab_type": "text"
      },
      "source": [
        "## Lists"
      ]
    },
    {
      "cell_type": "code",
      "metadata": {
        "id": "UEEVgZ2Q8QnE",
        "colab_type": "code",
        "colab": {}
      },
      "source": [
        "list1 = [1, 2, 3.5, 'banana']\n",
        "list2 = ['apple', 'orange']\n",
        "result = list1 + list2 \n",
        "\n",
        "for element in result: \n",
        "  print('Next element is: ', element)\n",
        "\n",
        "print()\n",
        "print('The first element is: ', result[0])\n",
        "print('The last element is: ', result[-1])"
      ],
      "execution_count": 0,
      "outputs": []
    },
    {
      "cell_type": "markdown",
      "metadata": {
        "id": "iiabEcbA1qJ2",
        "colab_type": "text"
      },
      "source": [
        "# What else you migh want to use\n",
        "\n"
      ]
    },
    {
      "cell_type": "markdown",
      "metadata": {
        "id": "msL68Wij95Ol",
        "colab_type": "text"
      },
      "source": [
        "## Random numbers (integers)\n",
        "\n",
        "* Python has a built-in module for that: *random*. \n",
        "For those, who want more details: https://docs.python.org/3/library/random.html#module-random\n",
        "* For this task function *randint* is enough "
      ]
    },
    {
      "cell_type": "code",
      "metadata": {
        "id": "HSTJtmg_-XeJ",
        "colab_type": "code",
        "outputId": "d9de2c00-90b4-40e7-bc71-d4e05dd4e63e",
        "colab": {
          "base_uri": "https://localhost:8080/",
          "height": 34
        }
      },
      "source": [
        "from random import randint \n",
        "\n",
        "for i in range(11):\n",
        "  random_number = randint(1, 10)\n",
        "  print(random_number)"
      ],
      "execution_count": 0,
      "outputs": [
        {
          "output_type": "stream",
          "text": [
            "10\n"
          ],
          "name": "stdout"
        }
      ]
    },
    {
      "cell_type": "markdown",
      "metadata": {
        "id": "u-swbdYX96qk",
        "colab_type": "text"
      },
      "source": [
        "## Operator break\n",
        "\n",
        "When is called inside any loop - stops the loop and the program continues as if loop finished naturally"
      ]
    },
    {
      "cell_type": "code",
      "metadata": {
        "id": "vZ6J_XY__saJ",
        "colab_type": "code",
        "outputId": "ae40bdc7-6431-4d0b-debc-2145ac840dd2",
        "colab": {
          "base_uri": "https://localhost:8080/",
          "height": 225
        }
      },
      "source": [
        "for i in range(100):\n",
        "  print(i)\n",
        "  if i == 10:\n",
        "    break\n",
        "\n",
        "print('The program continues from here after calling \"break\"')"
      ],
      "execution_count": 0,
      "outputs": [
        {
          "output_type": "stream",
          "text": [
            "0\n",
            "1\n",
            "2\n",
            "3\n",
            "4\n",
            "5\n",
            "6\n",
            "7\n",
            "8\n",
            "9\n",
            "10\n",
            "The program continues from here after calling \"break\"\n"
          ],
          "name": "stdout"
        }
      ]
    },
    {
      "cell_type": "code",
      "metadata": {
        "id": "MDdW6kQ3_8Iw",
        "colab_type": "code",
        "outputId": "714295df-09d1-434c-e4c5-b9a4da33549c",
        "colab": {
          "base_uri": "https://localhost:8080/",
          "height": 86
        }
      },
      "source": [
        "s = ''\n",
        "while s != '0':\n",
        "  s = input('type a number\\n')\n",
        "  if not s.isdigit():\n",
        "    print('Doesn\\'t look like a number')\n",
        "    break\n",
        "\n",
        "print('The program continues from here after calling \"break\"')"
      ],
      "execution_count": 0,
      "outputs": [
        {
          "output_type": "stream",
          "text": [
            "type a number\n",
            "z\n",
            "Doesn't look like a number\n",
            "The program continues from here after calling \"break\"\n"
          ],
          "name": "stdout"
        }
      ]
    },
    {
      "cell_type": "markdown",
      "metadata": {
        "id": "S4meKxPW-GIg",
        "colab_type": "text"
      },
      "source": [
        "## Good luck!\n",
        "\n",
        "and don't forget to ask questions, if you're stuck"
      ]
    },
    {
      "cell_type": "code",
      "metadata": {
        "id": "edq4W2d6evib",
        "colab_type": "code",
        "outputId": "3e5531dc-b890-4da9-af5d-11c42f9fed55",
        "colab": {
          "base_uri": "https://localhost:8080/",
          "height": 135
        }
      },
      "source": [
        "Name_player = input('state your name:\\n')\n",
        "print('Awesome!', Name_player,',welcome to the magic number game!\\nRule:\\nYou have 7 chances to guess any number from 1 to 100, if your guess is right, you win, and if not, you loose after the trial limit')\n",
        "print(input('Do you agree to continue? yes or no?: '))\n",
        "acceptance= ['Yes','No.']\n",
        "while acceptance == Yes:\n",
        "  print(Name_player +', welcome to the magic number game')\n",
        "if acceptance == No:\n",
        "    print('Magic Game aborted')\n",
        "else:\n",
        "    print('please enter the correct response')\n",
        "    continue\n",
        "\n",
        "from random import randint\n",
        "magic_number = randint(0,100)\n",
        "while perfect_guess!= '0':\n",
        "if not perfect_guess.isdigit():\n",
        "  perfect_guess = (input('Guess a number \\n'))\n",
        "  continue\n",
        "  print('It is not a number', input('Guess a number \\n'))\n",
        "attempts = 0\n",
        "while attempts <= 7:\n",
        "  perfect_guess = int(input('Guess a number \\n'))\n",
        " \n",
        "  attempts +=1\n",
        "  if perfect_guess < magic_number:\n",
        "    print('My MAGIC NUMBER IS:',perfect_guess,'Your guess is less  than magic number, Please try again.')\n",
        "  if perfect_guess > magic_number:\n",
        "    print('My MAGIC NUMBER IS:',perfect_guess, ',Your guess is greater than magic number, Please try again.')\n",
        "  if attempts== 7: \n",
        "    print('Sorry, Number of attempts exhausted')\n",
        "  if perfect_guess == magic_number:\n",
        "    print('Hurray! You Won!!')\n",
        "  restart = input('do you want to restart Y/N?')\n",
        "  while restart == 'Y':\n",
        "    continue\n",
        "  else:\n",
        "    print('Thanks so much, I hope you had fun!')\n",
        "\n"
      ],
      "execution_count": 0,
      "outputs": [
        {
          "output_type": "error",
          "ename": "IndentationError",
          "evalue": "ignored",
          "traceback": [
            "\u001b[0;36m  File \u001b[0;32m\"<ipython-input-17-1737b6847af8>\"\u001b[0;36m, line \u001b[0;32m15\u001b[0m\n\u001b[0;31m    if not perfect_guess.isdigit():\u001b[0m\n\u001b[0m     ^\u001b[0m\n\u001b[0;31mIndentationError\u001b[0m\u001b[0;31m:\u001b[0m expected an indented block\n"
          ]
        }
      ]
    }
  ]
}